{
 "cells": [
  {
   "cell_type": "markdown",
   "id": "ae340257-bd4c-47b3-a44e-f6170f150ff9",
   "metadata": {},
   "source": [
    "Check the modes."
   ]
  },
  {
   "cell_type": "code",
   "execution_count": null,
   "id": "2e7a8668-ac64-4ca7-9cdb-c64bf61f8256",
   "metadata": {},
   "outputs": [],
   "source": [
    "import pyabc2\n",
    "from pyabc2 import Key"
   ]
  },
  {
   "cell_type": "code",
   "execution_count": null,
   "id": "3f69d545-7600-40a9-81ce-3dc56973b872",
   "metadata": {},
   "outputs": [],
   "source": [
    "mode_abbrs = [\"ion\", \"dor\", \"phr\", \"lyd\", \"mix\", \"aeo\", \"loc\"]\n",
    "\n",
    "modes = [Key(f\"G{m}\") for m in mode_abbrs]\n",
    "modes"
   ]
  },
  {
   "cell_type": "code",
   "execution_count": null,
   "id": "6c3491ec-825d-4f7b-80b6-a38fe7103db8",
   "metadata": {},
   "outputs": [],
   "source": [
    "for m in modes:\n",
    "    m.print_scale()"
   ]
  },
  {
   "cell_type": "code",
   "execution_count": null,
   "id": "b8871068-7ccf-4c29-b9c3-c62d950ba990",
   "metadata": {},
   "outputs": [],
   "source": [
    "for m in modes:\n",
    "    m.print_scale_degrees_wrt_major()"
   ]
  },
  {
   "cell_type": "code",
   "execution_count": null,
   "id": "1c3bfcbb-dd3c-4a81-816f-dff94f0e61c5",
   "metadata": {},
   "outputs": [],
   "source": [
    "modes[-1].relative_major"
   ]
  }
 ],
 "metadata": {
  "kernelspec": {
   "display_name": "Python 3 (ipykernel)",
   "language": "python",
   "name": "python3"
  },
  "language_info": {
   "codemirror_mode": {
    "name": "ipython",
    "version": 3
   },
   "file_extension": ".py",
   "mimetype": "text/x-python",
   "name": "python",
   "nbconvert_exporter": "python",
   "pygments_lexer": "ipython3"
  }
 },
 "nbformat": 4,
 "nbformat_minor": 5
}
