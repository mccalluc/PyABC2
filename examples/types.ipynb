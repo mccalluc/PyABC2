{
 "cells": [
  {
   "cell_type": "code",
   "execution_count": null,
   "id": "e71a5cd7-bf37-4cc5-9226-831fb66135b0",
   "metadata": {},
   "outputs": [],
   "source": [
    "import pyabc2\n",
    "from pyabc2.sources import load_example"
   ]
  },
  {
   "cell_type": "code",
   "execution_count": null,
   "id": "8a9bed71-35eb-4d86-9464-b1c8fd4560eb",
   "metadata": {},
   "outputs": [],
   "source": [
    "pyabc2.PitchClass(6)"
   ]
  },
  {
   "cell_type": "code",
   "execution_count": null,
   "id": "18446868-e0b6-45c2-af05-1656a057afa7",
   "metadata": {},
   "outputs": [],
   "source": [
    "pyabc2.Pitch(39)"
   ]
  },
  {
   "cell_type": "code",
   "execution_count": null,
   "id": "adcacce3-fcb0-4aa6-afef-411ba6de85b4",
   "metadata": {},
   "outputs": [],
   "source": [
    "pyabc2.Note.from_abc(\"f4\")"
   ]
  },
  {
   "cell_type": "code",
   "execution_count": null,
   "id": "daf6debd-69e9-4b51-bbad-0a6d08b24590",
   "metadata": {},
   "outputs": [],
   "source": [
    "abc = load_example(\"For the Love of Music\")\n",
    "\n",
    "print(abc)"
   ]
  },
  {
   "cell_type": "code",
   "execution_count": null,
   "id": "24d338b0-c6ca-4cbe-9a36-62aef6e7a975",
   "metadata": {},
   "outputs": [],
   "source": [
    "pyabc2.Tune(abc)"
   ]
  }
 ],
 "metadata": {
  "kernelspec": {
   "display_name": "Python 3 (ipykernel)",
   "language": "python",
   "name": "python3"
  },
  "language_info": {
   "codemirror_mode": {
    "name": "ipython",
    "version": 3
   },
   "file_extension": ".py",
   "mimetype": "text/x-python",
   "name": "python",
   "nbconvert_exporter": "python",
   "pygments_lexer": "ipython3"
  }
 },
 "nbformat": 4,
 "nbformat_minor": 5
}
