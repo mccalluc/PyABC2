{
 "cells": [
  {
   "cell_type": "code",
   "execution_count": null,
   "id": "e71a5cd7-bf37-4cc5-9226-831fb66135b0",
   "metadata": {},
   "outputs": [],
   "source": [
    "import pyabc2"
   ]
  },
  {
   "cell_type": "code",
   "execution_count": null,
   "id": "8a9bed71-35eb-4d86-9464-b1c8fd4560eb",
   "metadata": {},
   "outputs": [],
   "source": [
    "pyabc2.PitchClass(6)"
   ]
  },
  {
   "cell_type": "code",
   "execution_count": null,
   "id": "18446868-e0b6-45c2-af05-1656a057afa7",
   "metadata": {},
   "outputs": [],
   "source": [
    "pyabc2.Pitch(39)"
   ]
  },
  {
   "cell_type": "code",
   "execution_count": null,
   "id": "adcacce3-fcb0-4aa6-afef-411ba6de85b4",
   "metadata": {},
   "outputs": [],
   "source": [
    "pyabc2.Note.from_abc(\"f4\")"
   ]
  },
  {
   "cell_type": "code",
   "execution_count": null,
   "id": "daf6debd-69e9-4b51-bbad-0a6d08b24590",
   "metadata": {},
   "outputs": [],
   "source": [
    "abc = \"\"\"\n",
    "X:106\n",
    "T:For The Love Of Music\n",
    "R:slip jig\n",
    "C:Liz Carroll\n",
    "H:Also played in A\n",
    "Z:id:hn-slipjig-106\n",
    "M:9/8\n",
    "L:1/8\n",
    "K:G\n",
    "GED DEG AGB | AGG GBd edd | GED DEG AGc | Bee BAB GEE :|\n",
    "ged e/f/gB GB/c/d | ged egb a2f | ged e/f/gB AB/c/d | edB dBG ABd |\n",
    "ged e/f/gB GB/c/d | ged egb a2a | bee e/f/ge a2g | edB dBG ABA ||\n",
    "P:variations\n",
    "|: GED DEG A2B | AGG GBd edd | GED DEG A2c | Bee BAB GEE :|\n",
    "ged egB G2d | ged egb ~a3 | ged egB ABd | edB dBG AB/c/d |\n",
    "ged egB G2d | ged egb ~a3 | bee gee a2g | edB dBG ABA ||\n",
    "\"\"\"\n",
    "\n",
    "tune = pyabc2.Tune(abc)"
   ]
  },
  {
   "cell_type": "code",
   "execution_count": null,
   "id": "bcf41af5-6de7-410f-a0a0-a3625b5a51fb",
   "metadata": {},
   "outputs": [],
   "source": [
    "%%HTML\n",
    "\n",
    "<script src=\"https://cdn.jsdelivr.net/npm/abcjs@6.0.0-beta.33/dist/abcjs-basic-min.js\"></script>"
   ]
  },
  {
   "cell_type": "code",
   "execution_count": null,
   "id": "24d338b0-c6ca-4cbe-9a36-62aef6e7a975",
   "metadata": {},
   "outputs": [],
   "source": [
    "tune"
   ]
  },
  {
   "cell_type": "code",
   "execution_count": null,
   "id": "2d9b84d6-92a8-4651-ad5e-b8119310fbd6",
   "metadata": {},
   "outputs": [],
   "source": [
    "tune"
   ]
  },
  {
   "cell_type": "code",
   "execution_count": null,
   "id": "3937142c-9b26-491d-8c26-756dd10a0441",
   "metadata": {},
   "outputs": [],
   "source": [
    "tune._repr_html_()"
   ]
  },
  {
   "cell_type": "code",
   "execution_count": null,
   "id": "a0fbf4cf-f834-418a-a0a9-453867b91e4a",
   "metadata": {},
   "outputs": [],
   "source": [
    "print(tune._repr_html_())"
   ]
  },
  {
   "cell_type": "markdown",
   "id": "4cf41a93-2867-422e-be54-02d432a2ae8c",
   "metadata": {},
   "source": [
    "%%javascript\n",
    "\n",
    "    // works from here\n",
    "      const tune = \"X:106\\nT:For The Love Of Music\\nR:slip jig\\nC:Liz Carroll\\nH:Also played in A\\nZ:id:hn-slipjig-106\\nM:9/8\\nL:1/8\\nK:G\\nGED DEG AGB | AGG GBd edd | GED DEG AGc | Bee BAB GEE :|\\nged e/f/gB GB/c/d | ged egb a2f | ged e/f/gB AB/c/d | edB dBG ABd |\\nged e/f/gB GB/c/d | ged egb a2a | bee e/f/ge a2g | edB dBG ABA ||\\nP:variations\\n|: GED DEG A2B | AGG GBd edd | GED DEG A2c | Bee BAB GEE :|\\nged egB G2d | ged egb ~a3 | ged egB ABd | edB dBG AB/c/d |\\nged egB G2d | ged egb ~a3 | bee gee a2g | edB dBG ABA ||\";\n",
    "      const params = {};\n",
    "      ABCJS.renderAbc(\"notation-1234\", tune, params);"
   ]
  }
 ],
 "metadata": {
  "kernelspec": {
   "display_name": "Python 3 (ipykernel)",
   "language": "python",
   "name": "python3"
  },
  "language_info": {
   "codemirror_mode": {
    "name": "ipython",
    "version": 3
   },
   "file_extension": ".py",
   "mimetype": "text/x-python",
   "name": "python",
   "nbconvert_exporter": "python",
   "pygments_lexer": "ipython3",
   "version": "3.7.7"
  }
 },
 "nbformat": 4,
 "nbformat_minor": 5
}
